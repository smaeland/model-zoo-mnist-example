{
 "cells": [
  {
   "cell_type": "code",
   "execution_count": null,
   "source": [],
   "outputs": [],
   "metadata": {}
  },
  {
   "cell_type": "markdown",
   "source": [
    "# MNIST example \n",
    "\n",
    "This notebook shows how to run a pre-trained convolutional network to classify handwritten digits. We will also make some changes to the pre-trained model, and train it again to see it we can improve its performance. "
   ],
   "metadata": {}
  },
  {
   "cell_type": "markdown",
   "source": [
    "## Install dependencies\n",
    "\n",
    "To be able to properly load a saved model, it is important to match the software it was created with. In this case, we have specified it in a `requirements.txt` file."
   ],
   "metadata": {}
  },
  {
   "cell_type": "markdown",
   "source": [],
   "metadata": {}
  }
 ],
 "metadata": {
  "orig_nbformat": 4,
  "language_info": {
   "name": "python"
  }
 },
 "nbformat": 4,
 "nbformat_minor": 2
}