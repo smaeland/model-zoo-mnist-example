{
 "cells": [
  {
   "cell_type": "markdown",
   "source": [
    "# MNIST example \n",
    "\n",
    "This notebook shows how to run a pre-trained convolutional network to classify handwritten digits. We will also make some changes to the pre-trained model, and train it again to see it we can improve its performance. "
   ],
   "metadata": {}
  },
  {
   "cell_type": "markdown",
   "source": [
    "## Install dependencies\n",
    "\n",
    "To be able to properly load a saved model, it is important to match the software it was created with. In this case, we have specified it in a `requirements.txt` file. Let us check that it is present, otherwise download it:"
   ],
   "metadata": {}
  },
  {
   "cell_type": "code",
   "execution_count": 1,
   "source": [
    "%%bash\n",
    "if [[ -e requirements.txt ]]; then\n",
    "    echo \"Found requirements.txt\"\n",
    "else\n",
    "    wget https://raw.githubusercontent.com/smaeland/model-zoo-mnist-example/main/requirements.txt\n",
    "    echo \"Dowloaded requirements.txt\"\n",
    "fi"
   ],
   "outputs": [
    {
     "output_type": "stream",
     "name": "stdout",
     "text": [
      "Found requirements.txt\n"
     ]
    }
   ],
   "metadata": {}
  },
  {
   "cell_type": "markdown",
   "source": [
    "Great. Now we can install the things we need:"
   ],
   "metadata": {}
  },
  {
   "cell_type": "code",
   "execution_count": 2,
   "source": [
    "! pip install -r requirements.txt"
   ],
   "outputs": [
    {
     "output_type": "stream",
     "name": "stdout",
     "text": [
      "Requirement already satisfied: numpy==1.19.2 in ./mnist-env/lib/python3.8/site-packages (from -r requirements.txt (line 1)) (1.19.2)\n",
      "Requirement already satisfied: tensorflow==2.6.0 in ./mnist-env/lib/python3.8/site-packages (from -r requirements.txt (line 2)) (2.6.0)\n",
      "Requirement already satisfied: tensorflow-datasets==4.4.0 in ./mnist-env/lib/python3.8/site-packages (from -r requirements.txt (line 3)) (4.4.0)\n"
     ]
    }
   ],
   "metadata": {}
  },
  {
   "cell_type": "markdown",
   "source": [
    "And then import the relevant packages:"
   ],
   "metadata": {}
  },
  {
   "cell_type": "code",
   "execution_count": 3,
   "source": [
    "import numpy as np\n",
    "from tensorflow import keras\n",
    "import matplotlib.pyplot as plt\n",
    "%matplotlib inline"
   ],
   "outputs": [
    {
     "output_type": "stream",
     "name": "stderr",
     "text": [
      "2021-09-03 13:03:51.067214: W tensorflow/stream_executor/platform/default/dso_loader.cc:64] Could not load dynamic library 'libcudart.so.11.0'; dlerror: libcudart.so.11.0: cannot open shared object file: No such file or directory\n",
      "2021-09-03 13:03:51.067238: I tensorflow/stream_executor/cuda/cudart_stub.cc:29] Ignore above cudart dlerror if you do not have a GPU set up on your machine.\n"
     ]
    }
   ],
   "metadata": {}
  },
  {
   "cell_type": "markdown",
   "source": [
    "## Download the data\n",
    "\n",
    "With the requirements in place, we can download the data we will use, and have a look at some of the images."
   ],
   "metadata": {}
  },
  {
   "cell_type": "code",
   "execution_count": 4,
   "source": [
    "(x_train, y_train), (x_test, y_test) = keras.datasets.mnist.load_data()\n",
    "\n",
    "num_classes = 10\n",
    "num_train_samples = x_train.shape[0]\n",
    "num_test_samples = x_train.shape[0]\n",
    "print(f'Loaded {num_train_samples} training samples, {num_test_samples} testing samples')\n",
    "\n",
    "ncols, nrows = 4, 4 \n",
    "fig, axs = plt.subplots(nrows, ncols, figsize=(6,4))\n",
    "for i in range(nrows):\n",
    "    for j in range(ncols):\n",
    "        axs[i, j].imshow(x_train[i+j], cmap='gray')\n",
    "        axs[i, j].tick_params(left=False, bottom=False, labelleft=False, labelbottom=False)\n",
    "plt.show()\n"
   ],
   "outputs": [
    {
     "output_type": "stream",
     "name": "stdout",
     "text": [
      "Loaded 60000 training samples, 60000 testing samples\n"
     ]
    },
    {
     "output_type": "display_data",
     "data": {
      "image/png": "[encoded data removed]",
      "text/plain": [
       "<Figure size 432x288 with 16 Axes>"
      ]
     },
     "metadata": {}
    }
   ],
   "metadata": {}
  },
  {
   "cell_type": "markdown",
   "source": [],
   "metadata": {}
  },
  {
   "cell_type": "markdown",
   "source": [
    "Looks like digits, all right. Let us preprocess the images to have the dimensions and ranges that the model expects. In addition, we convert the labels from a vector (containing 0, 1, ..., 9) to a categorical / one-hot matrix. "
   ],
   "metadata": {}
  },
  {
   "cell_type": "markdown",
   "source": [
    "## Download the pre-trained model\n",
    "\n",
    "The model is available as a zip file. Download, unzip, and then load it:"
   ],
   "metadata": {}
  },
  {
   "cell_type": "code",
   "execution_count": 5,
   "source": [
    "%%bash\n",
    "if [[ -d cnn-model-v1 ]]; then\n",
    "    echo \"Found model files\"\n",
    "else\n",
    "    wget https://github.com/smaeland/model-zoo-mnist-example/raw/main/cnn-model-v1.zip\n",
    "    unzip cnn-model-v1.zip\n",
    "fi"
   ],
   "outputs": [
    {
     "output_type": "stream",
     "name": "stdout",
     "text": [
      "Found model files\n"
     ]
    }
   ],
   "metadata": {}
  },
  {
   "cell_type": "code",
   "execution_count": 6,
   "source": [
    "model = keras.models.load_model('cnn-model-v1')\n",
    "print(model.summary())"
   ],
   "outputs": [
    {
     "output_type": "stream",
     "name": "stderr",
     "text": [
      "2021-09-03 13:03:53.447947: I tensorflow/core/platform/cpu_feature_guard.cc:142] This TensorFlow binary is optimized with oneAPI Deep Neural Network Library (oneDNN) to use the following CPU instructions in performance-critical operations:  AVX2 AVX512F FMA\n",
      "To enable them in other operations, rebuild TensorFlow with the appropriate compiler flags.\n"
     ]
    },
    {
     "output_type": "stream",
     "name": "stdout",
     "text": [
      "Model: \"sequential\"\n",
      "_________________________________________________________________\n",
      "Layer (type)                 Output Shape              Param #   \n",
      "=================================================================\n",
      "conv2d (Conv2D)              (None, 26, 26, 32)        320       \n",
      "_________________________________________________________________\n",
      "max_pooling2d (MaxPooling2D) (None, 13, 13, 32)        0         \n",
      "_________________________________________________________________\n",
      "conv2d_1 (Conv2D)            (None, 11, 11, 64)        18496     \n",
      "_________________________________________________________________\n",
      "flatten (Flatten)            (None, 7744)              0         \n",
      "_________________________________________________________________\n",
      "dropout (Dropout)            (None, 7744)              0         \n",
      "_________________________________________________________________\n",
      "dense (Dense)                (None, 10)                77450     \n",
      "=================================================================\n",
      "Total params: 96,266\n",
      "Trainable params: 96,266\n",
      "Non-trainable params: 0\n",
      "_________________________________________________________________\n",
      "None\n"
     ]
    }
   ],
   "metadata": {}
  },
  {
   "cell_type": "markdown",
   "source": [
    "## Preprocess our data and run predictions\n",
    "\n",
    "A model will typically require a specific way of preprocessing input data, such as scaling. Having done so, we can go ahead and make some predictions, and use them to evaluate performance."
   ],
   "metadata": {}
  },
  {
   "cell_type": "code",
   "execution_count": 7,
   "source": [
    "def preprocess(input_data):\n",
    "        \n",
    "    # Scale images to the [0, 1] range\n",
    "    preprocessed_data = input_data.astype(\"float32\") / 255\n",
    "\n",
    "    # Data has shape (n, height, width), add a channel dimension so it becomes (n, height, width, 1)\n",
    "    preprocessed_data = np.expand_dims(preprocessed_data, axis=-1)\n",
    "\n",
    "    return preprocessed_data\n",
    "\n",
    "\n",
    "x_train = preprocess(x_train)\n",
    "x_test = preprocess(x_test)"
   ],
   "outputs": [],
   "metadata": {}
  },
  {
   "cell_type": "code",
   "execution_count": 8,
   "source": [
    "from sklearn.metrics import accuracy_score\n",
    "\n",
    "preds = model.predict(x_test)\n",
    "\n",
    "# Preds are one-hot encoded -- convert to vector form\n",
    "preds = np.argmax(preds, axis=1)\n",
    "\n",
    "print('Accuracy:', accuracy_score(y_test, preds))\n",
    "\n",
    "\n",
    "ncols, nrows = 4, 4 \n",
    "fig, axs = plt.subplots(nrows, ncols, figsize=(8,8))\n",
    "for i in range(nrows):\n",
    "    for j in range(ncols):\n",
    "        axs[i, j].imshow(x_test[i+j, :, :, 0], cmap='gray')\n",
    "        axs[i, j].tick_params(left=False, bottom=False, labelleft=False, labelbottom=False)\n",
    "        axs[i, j].set_xlabel(f'Pred: {preds[i+j]}, true: {y_test[i+j]}')\n",
    "plt.show()"
   ],
   "outputs": [
    {
     "output_type": "stream",
     "name": "stderr",
     "text": [
      "2021-09-03 13:03:54.028414: I tensorflow/compiler/mlir/mlir_graph_optimization_pass.cc:185] None of the MLIR Optimization Passes are enabled (registered 2)\n"
     ]
    },
    {
     "output_type": "stream",
     "name": "stdout",
     "text": [
      "Accuracy: 0.991\n"
     ]
    },
    {
     "output_type": "display_data",
     "data": {
      "image/png": "[encoded data removed]",
      "text/plain": [
       "<Figure size 576x576 with 16 Axes>"
      ]
     },
     "metadata": {}
    }
   ],
   "metadata": {}
  },
  {
   "cell_type": "markdown",
   "source": [
    "## Modify and re-train the model\n",
    "\n",
    "The model is performing great, but we can still try to improve by expanding it. Having inspected the output from `model.summary()` (above), we decide to keep everything up till `conv2d_1`, and add an additional pooling and convolution layer:"
   ],
   "metadata": {}
  },
  {
   "cell_type": "code",
   "execution_count": 9,
   "source": [
    "base_model_conv2d = model.get_layer('conv2d_1').output\n",
    "new_layer = keras.layers.MaxPooling2D(pool_size=(2, 2), name='maxpooling_2d_2')(base_model_conv2d)\n",
    "new_layer = keras.layers.Conv2D(32, kernel_size=(3, 3), activation='relu', name='conv2d_2')(new_layer)\n",
    "new_layer = keras.layers.Flatten()(new_layer)\n",
    "new_layer = keras.layers.Dropout(0.5)(new_layer)\n",
    "new_layer = keras.layers.Dense(num_classes, activation='softmax')(new_layer)\n",
    "\n",
    "new_model = keras.Model(inputs=model.input, outputs=new_layer)\n",
    "\n",
    "print(new_model.summary())"
   ],
   "outputs": [
    {
     "output_type": "stream",
     "name": "stdout",
     "text": [
      "Model: \"model\"\n",
      "_________________________________________________________________\n",
      "Layer (type)                 Output Shape              Param #   \n",
      "=================================================================\n",
      "input_1 (InputLayer)         [(None, 28, 28, 1)]       0         \n",
      "_________________________________________________________________\n",
      "conv2d (Conv2D)              (None, 26, 26, 32)        320       \n",
      "_________________________________________________________________\n",
      "max_pooling2d (MaxPooling2D) (None, 13, 13, 32)        0         \n",
      "_________________________________________________________________\n",
      "conv2d_1 (Conv2D)            (None, 11, 11, 64)        18496     \n",
      "_________________________________________________________________\n",
      "maxpooling_2d_2 (MaxPooling2 (None, 5, 5, 64)          0         \n",
      "_________________________________________________________________\n",
      "conv2d_2 (Conv2D)            (None, 3, 3, 32)          18464     \n",
      "_________________________________________________________________\n",
      "flatten (Flatten)            (None, 288)               0         \n",
      "_________________________________________________________________\n",
      "dropout (Dropout)            (None, 288)               0         \n",
      "_________________________________________________________________\n",
      "dense (Dense)                (None, 10)                2890      \n",
      "=================================================================\n",
      "Total params: 40,170\n",
      "Trainable params: 40,170\n",
      "Non-trainable params: 0\n",
      "_________________________________________________________________\n",
      "None\n"
     ]
    }
   ],
   "metadata": {}
  },
  {
   "cell_type": "markdown",
   "source": [
    "New layers require re-compiling the model and re-training the new weights. Note that we one-hot encode the targets before training."
   ],
   "metadata": {}
  },
  {
   "cell_type": "code",
   "execution_count": 10,
   "source": [
    "new_model.compile(loss='categorical_crossentropy', optimizer='adam', metrics=['accuracy'])\n",
    "\n",
    "batch_size = 128\n",
    "epochs = 10\n",
    "\n",
    "y_train_onehot = keras.utils.to_categorical(y_train)\n",
    "\n",
    "new_model.fit(\n",
    "    x_train,\n",
    "    y_train_onehot,\n",
    "    batch_size=batch_size,\n",
    "    epochs=epochs,\n",
    "    validation_split=0.1,\n",
    "    verbose=2\n",
    ")"
   ],
   "outputs": [
    {
     "output_type": "stream",
     "name": "stdout",
     "text": [
      "Epoch 1/10\n",
      "422/422 - 11s - loss: 0.2865 - accuracy: 0.9099 - val_loss: 0.0559 - val_accuracy: 0.9848\n",
      "Epoch 2/10\n",
      "422/422 - 12s - loss: 0.0869 - accuracy: 0.9726 - val_loss: 0.0420 - val_accuracy: 0.9862\n",
      "Epoch 3/10\n",
      "422/422 - 13s - loss: 0.0685 - accuracy: 0.9785 - val_loss: 0.0336 - val_accuracy: 0.9900\n",
      "Epoch 4/10\n",
      "422/422 - 13s - loss: 0.0573 - accuracy: 0.9820 - val_loss: 0.0321 - val_accuracy: 0.9912\n",
      "Epoch 5/10\n",
      "422/422 - 13s - loss: 0.0487 - accuracy: 0.9846 - val_loss: 0.0308 - val_accuracy: 0.9922\n",
      "Epoch 6/10\n",
      "422/422 - 13s - loss: 0.0443 - accuracy: 0.9862 - val_loss: 0.0356 - val_accuracy: 0.9897\n",
      "Epoch 7/10\n",
      "422/422 - 13s - loss: 0.0403 - accuracy: 0.9874 - val_loss: 0.0286 - val_accuracy: 0.9920\n",
      "Epoch 8/10\n",
      "422/422 - 13s - loss: 0.0378 - accuracy: 0.9875 - val_loss: 0.0302 - val_accuracy: 0.9915\n",
      "Epoch 9/10\n",
      "422/422 - 12s - loss: 0.0353 - accuracy: 0.9891 - val_loss: 0.0282 - val_accuracy: 0.9933\n",
      "Epoch 10/10\n",
      "422/422 - 13s - loss: 0.0340 - accuracy: 0.9889 - val_loss: 0.0272 - val_accuracy: 0.9928\n"
     ]
    },
    {
     "output_type": "execute_result",
     "data": {
      "text/plain": [
       "<keras.callbacks.History at 0x7f8e84928760>"
      ]
     },
     "metadata": {},
     "execution_count": 10
    }
   ],
   "metadata": {}
  },
  {
   "cell_type": "markdown",
   "source": [
    "Now it's time to evaluate the performance of the new model:"
   ],
   "metadata": {}
  },
  {
   "cell_type": "code",
   "execution_count": 11,
   "source": [
    "new_preds = new_model.predict(x_test)\n",
    "new_preds = np.argmax(new_preds, axis=1)    # Revert the one-hot encoding before using sklearn metrics\n",
    "\n",
    "print('Accuracy:', accuracy_score(y_test, new_preds))"
   ],
   "outputs": [
    {
     "output_type": "stream",
     "name": "stdout",
     "text": [
      "Accuracy: 0.9913\n"
     ]
    }
   ],
   "metadata": {}
  }
 ],
 "metadata": {
  "orig_nbformat": 4,
  "language_info": {
   "name": "python",
   "version": "3.8.10",
   "mimetype": "text/x-python",
   "codemirror_mode": {
    "name": "ipython",
    "version": 3
   },
   "pygments_lexer": "ipython3",
   "nbconvert_exporter": "python",
   "file_extension": ".py"
  },
  "kernelspec": {
   "name": "python3",
   "display_name": "Python 3.8.10 64-bit"
  },
  "interpreter": {
   "hash": "d5508b9e780820f04a4ed6d11c48a6e19e86e9525557da1559157d012f913250"
  }
 },
 "nbformat": 4,
 "nbformat_minor": 2
}